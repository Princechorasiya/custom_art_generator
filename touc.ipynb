{
 "cells": [
  {
   "cell_type": "code",
   "execution_count": 1,
   "metadata": {},
   "outputs": [
    {
     "name": "stdout",
     "output_type": "stream",
     "text": [
      "2.5.1\n",
      "True\n",
      "12.1\n"
     ]
    }
   ],
   "source": [
    "import torch\n",
    "print(torch.__version__)          # PyTorch version\n",
    "print(torch.cuda.is_available())  # Should return True\n",
    "print(torch.version.cuda)         # CUDA version"
   ]
  },
  {
   "cell_type": "code",
   "execution_count": 1,
   "metadata": {},
   "outputs": [
    {
     "data": {
      "application/vnd.jupyter.widget-view+json": {
       "model_id": "a1f77f8a9e8840cfadd61f173737741b",
       "version_major": 2,
       "version_minor": 0
      },
      "text/plain": [
       "Loading pipeline components...:   0%|          | 0/6 [00:00<?, ?it/s]"
      ]
     },
     "metadata": {},
     "output_type": "display_data"
    },
    {
     "name": "stderr",
     "output_type": "stream",
     "text": [
      "You have disabled the safety checker for <class 'diffusers.pipelines.stable_diffusion.pipeline_stable_diffusion.StableDiffusionPipeline'> by passing `safety_checker=None`. Ensure that you abide to the conditions of the Stable Diffusion license and do not expose unfiltered results in services or applications open to the public. Both the diffusers team and Hugging Face strongly recommend to keep the safety filter enabled in all public facing circumstances, disabling it only for use-cases that involve analyzing network behavior or auditing its results. For more information, please have a look at https://github.com/huggingface/diffusers/pull/254 .\n"
     ]
    },
    {
     "data": {
      "application/vnd.jupyter.widget-view+json": {
       "model_id": "df7eb418ca304be38c38fa0e30f5525b",
       "version_major": 2,
       "version_minor": 0
      },
      "text/plain": [
       "  0%|          | 0/50 [00:00<?, ?it/s]"
      ]
     },
     "metadata": {},
     "output_type": "display_data"
    },
    {
     "name": "stderr",
     "output_type": "stream",
     "text": [
      "/home/priince365/anaconda3/envs/myenv/lib/python3.10/site-packages/diffusers/image_processor.py:147: RuntimeWarning: invalid value encountered in cast\n",
      "  images = (images * 255).round().astype(\"uint8\")\n"
     ]
    },
    {
     "data": {
      "text/plain": [
       "<matplotlib.image.AxesImage at 0x79e37f224820>"
      ]
     },
     "execution_count": 1,
     "metadata": {},
     "output_type": "execute_result"
    },
    {
     "data": {
      "image/png": "[encoded data removed]",
      "text/plain": [
       "<Figure size 640x480 with 1 Axes>"
      ]
     },
     "metadata": {},
     "output_type": "display_data"
    }
   ],
   "source": [
    "from diffusers import StableDiffusionPipeline\n",
    "import torch\n",
    "\n",
    "# Load model with float16 for lower VRAM usage\n",
    "pipe = StableDiffusionPipeline.from_pretrained(\n",
    "    \"runwayml/stable-diffusion-v1-5\", \n",
    "    torch_dtype=torch.float16,\n",
    "    safety_checker=None,\n",
    ")\n",
    "\n",
    "\n",
    "pipe.to(\"cuda\")\n",
    "\n",
    "# Enable optimizations\n",
    "pipe.enable_attention_slicing()\n",
    "\n",
    "torch.backends.cudnn.benchmark = False  # Prevents instability\n",
    "\n",
    "# Use more inference steps for better image quality\n",
    "prompt = \"lizard in a cityscape, vibrant colors, fantasy art\"\n",
    "image = pipe(prompt, num_inference_steps=50).images[0]\n",
    "image.save(\"cityscape.png\")\n",
    "\n",
    "\n",
    "\n",
    "\n",
    "\n",
    "# dipaly the iage \n",
    "\n",
    "# print iamge using open cv \n",
    "import cv2\n",
    "import matplotlib.pyplot as plt \n",
    "img = cv2.imread(\"cityscape.png\")\n",
    "plt.imshow(img)"
   ]
  },
  {
   "cell_type": "code",
   "execution_count": 4,
   "metadata": {},
   "outputs": [
    {
     "data": {
      "text/plain": [
       "<matplotlib.image.AxesImage at 0x750092e249d0>"
      ]
     },
     "execution_count": 4,
     "metadata": {},
     "output_type": "execute_result"
    },
    {
     "data": {
      "image/png": "[encoded data removed]",
      "text/plain": [
       "<Figure size 640x480 with 1 Axes>"
      ]
     },
     "metadata": {},
     "output_type": "display_data"
    }
   ],
   "source": [
    "# print iamge using open cv \n",
    "import cv2\n",
    "import matplotlib.pyplot as plt \n",
    "img = cv2.imread(\"cityscape.png\")\n",
    "plt.imshow(img)\n",
    "\n"
   ]
  },
  {
   "cell_type": "code",
   "execution_count": null,
   "metadata": {},
   "outputs": [],
   "source": [
    "\n",
    "from diffusers import StableDiffusionPipeline, DPMSolverMultistepScheduler\n",
    "import torch\n",
    "import cv2\n",
    "import matplotlib.pyplot as plt \n",
    "\n",
    "# Load model in float16 to save VRAM\n",
    "pipe = StableDiffusionPipeline.from_pretrained(\n",
    "    \"runwayml/stable-diffusion-v1-5\",\n",
    "    torch_dtype=torch.float16,\n",
    "    safety_checker=None,\n",
    ")\n",
    "pipe.to(\"cuda\")\n",
    "# Use a more stable scheduler\n",
    "pipe.scheduler = DPMSolverMultistepScheduler.from_config(pipe.scheduler.config)\n",
    "\n",
    "# Enable optimizations\n",
    "pipe.enable_attention_slicing()\n",
    "pipe.enable_model_cpu_offload()  # Helps with VRAM issues\n",
    "\n",
    "# Ensure model is running on GPU\n",
    "print(next(pipe.unet.parameters()).device)  # Should print: cuda:0\n",
    "print(next(pipe.unet.parameters()).dtype)   # Should print: torch.float16\n",
    "\n",
    "# Generate Image with Higher Steps\n",
    "prompt = \"lizard in a cityscape, vibrant colors, fantasy art\"\n",
    "image = pipe(prompt, num_inference_steps=50, guidance_scale=7.5).images[0]\n",
    "image.save(\"cityscape.png\")\n",
    "\n",
    "# Load and display image correctly\n",
    "img = cv2.imread(\"cityscape.png\")\n",
    "img = cv2.cvtColor(img, cv2.COLOR_BGR2RGB)  # Fix color issue\n",
    "plt.imshow(img)\n",
    "plt.axis(\"off\")\n",
    "plt.show()"
   ]
  }
 ],
 "metadata": {
  "kernelspec": {
   "display_name": "myenv",
   "language": "python",
   "name": "python3"
  },
  "language_info": {
   "codemirror_mode": {
    "name": "ipython",
    "version": 3
   },
   "file_extension": ".py",
   "mimetype": "text/x-python",
   "name": "python",
   "nbconvert_exporter": "python",
   "pygments_lexer": "ipython3",
   "version": "3.10.16"
  }
 },
 "nbformat": 4,
 "nbformat_minor": 2
}
